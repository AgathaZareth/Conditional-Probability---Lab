{
 "cells": [
  {
   "cell_type": "markdown",
   "metadata": {},
   "source": [
    "# Conditional Probability - Lab\n",
    "\n",
    "## Introduction\n",
    "\n",
    "In order to be ready for real-world applications of probability, it is important to understand what happens when probabilities are not independent. Very often, the probability of a certain event depends on other events happening! Let's see how this all works in this lab.\n",
    "\n",
    "## Objectives\n",
    "\n",
    "You will be able to:\n",
    "\n",
    "* Differentiate between independent and dependent events\n",
    "* Use the multiplication rule to find the probability of the intersection of two events\n",
    "\n",
    "## Exercise 1\n",
    "A coin is tossed and a single 6-sided dice is rolled. Find the probability of landing on the head side of the coin and rolling a 3 on the dice."
   ]
  },
  {
   "cell_type": "code",
   "execution_count": 1,
   "metadata": {},
   "outputs": [
    {
     "name": "stdout",
     "output_type": "stream",
     "text": [
      "8%\n"
     ]
    }
   ],
   "source": [
    "# Your code here\n",
    "# these two events are independent\n",
    "\n",
    "# ----------dice-----------------------------------------------------------\n",
    "# sample space for 1 random dice throw is {1,2,3,4,5,6}\n",
    "dice_possible_outcomes = {1,2,3,4,5,6}\n",
    "dice_sample_space = len(dice_possible_outcomes)\n",
    "\n",
    "# event space is landing a 3\n",
    "dice_event = {3}\n",
    "prob_3 = len(dice_event)/dice_sample_space\n",
    "\n",
    "\n",
    "# ----------coin-----------------------------------------------------------\n",
    "# sample space for 1 random coin throw is {1,2}\n",
    "coin_possible_outcomes = {1,2}\n",
    "coin_sample_space = len(coin_possible_outcomes)\n",
    "\n",
    "# event space is getting heads, heads = 1\n",
    "coin_event = {'heads'}\n",
    "prob_heads = len(coin_event)/coin_sample_space\n",
    "\n",
    "\n",
    "# ----------probability of these two (independent) events happening--------\n",
    "# p(3 & heads) = p(3)*p(heads)\n",
    "prob = prob_3*prob_heads\n",
    "\n",
    "# ----------convert to percentage------------------------------------------\n",
    "percentage = \"{:.0%}\".format(prob)\n",
    "print(percentage)\n"
   ]
  },
  {
   "cell_type": "markdown",
   "metadata": {},
   "source": [
    "# Exercise 2\n",
    "\n",
    "\n",
    "After conducting a survey, one of the outcomes was that 8 out of 10 of the survey subjects liked chocolate chip cookies. If three survey subjects are chosen at random **with replacement**, what is the probability that all three like chocolate chip cookies?"
   ]
  },
  {
   "cell_type": "code",
   "execution_count": 2,
   "metadata": {},
   "outputs": [
    {
     "name": "stdout",
     "output_type": "stream",
     "text": [
      "51%\n"
     ]
    }
   ],
   "source": [
    "# Your code here\n",
    "# \"with replacement\" makes them independent\n",
    "# --Probability each subject will like cookie = 8/10-----------------------\n",
    "subject_1 = subject_2 = subject_3 = 8/10\n",
    "\n",
    "# --Probability of drawing 3 in a row (with replacement) who like cookies--\n",
    "prob_3_in_row = subject_1*subject_2*subject_3\n",
    "\n",
    "# ----------convert to percentage------------------------------------------\n",
    "percentage = \"{:.0%}\".format(prob_3_in_row)\n",
    "print(percentage)\n"
   ]
  },
  {
   "cell_type": "markdown",
   "metadata": {},
   "source": [
    "## Exercise 3\n",
    "70% of your friends like chocolate flavored ice cream, and 35% like chocolate AND like strawberry flavors.\n",
    "\n",
    "What percent of those who like chocolate also like strawberry?"
   ]
  },
  {
   "cell_type": "code",
   "execution_count": 3,
   "metadata": {},
   "outputs": [
    {
     "name": "stdout",
     "output_type": "stream",
     "text": [
      "50%\n"
     ]
    }
   ],
   "source": [
    "# Your code here\n",
    "# P(Strawberry|Chocolate) = P(Chocolate & Strawberry) / P(Chocolate)\n",
    "# P(Chocolate & Strawberry) = .35\n",
    "# P(Chocolate) = .70\n",
    "p_S = .35/.70\n",
    "\n",
    "percentage = \"{:.0%}\".format(p_S)\n",
    "print(percentage)"
   ]
  },
  {
   "cell_type": "markdown",
   "metadata": {},
   "source": [
    "50% of your friends who like chocolate also like strawberry\n",
    "\n",
    "## Exercise 4\n",
    "What is the probability of drawing 2 consecutive aces from a deck of cards. "
   ]
  },
  {
   "cell_type": "code",
   "execution_count": 4,
   "metadata": {},
   "outputs": [
    {
     "name": "stdout",
     "output_type": "stream",
     "text": [
      "0%\n",
      "0.004524886877828055\n"
     ]
    }
   ],
   "source": [
    "# Your code here\n",
    "\n",
    "sample_space_A = 52 #number of cards\n",
    "event_space_A = 4 #number of aces\n",
    "prob_A = event_space_A/sample_space_A\n",
    "\n",
    "sample_space_B = 51\n",
    "event_space_B = 3 \n",
    "prob_B_given_A = event_space_B/sample_space_B\n",
    "\n",
    "# prob_A_and_B is pulling two aces in a row\n",
    "# prob_B_given_A = prob_A_and_B / prob_A ==> prob_A_and_B = prob_B_given_A*prob_A\n",
    "prob_A_and_B = prob_B_given_A*prob_A\n",
    "\n",
    "percentage = \"{:.0%}\".format(prob_A_and_B)\n",
    "print(percentage)\n",
    "print(prob_A_and_B)"
   ]
  },
  {
   "cell_type": "markdown",
   "metadata": {},
   "source": [
    "## Exercise 5\n",
    "In a manufacturing factory that produces a certain product, there are 100 units of the product, 5 of which are defective. We pick three units from the 100 units at random. \n",
    "\n",
    "What is the probability that none of them are defective?\n",
    "Hint: Use the chain rule here!"
   ]
  },
  {
   "cell_type": "code",
   "execution_count": 5,
   "metadata": {},
   "outputs": [
    {
     "name": "stdout",
     "output_type": "stream",
     "text": [
      "86%\n"
     ]
    }
   ],
   "source": [
    "# Your code here\n",
    "\n",
    "# ----------Probability of pulling one working----------\n",
    "certain_product = 100  \n",
    "sample_space = certain_product\n",
    "\n",
    "working = 95\n",
    "event_space = working\n",
    "\n",
    "p_working_A = event_space/sample_space\n",
    "\n",
    "# ----------Probability of pulling a second working----------\n",
    "# p(B|A) = 94/99\n",
    "prob_B_given_A = 94/99\n",
    "\n",
    "# plug into formula: prob_B_given_A = prob_A_and_B / prob_A ==> prob_A_and_B = prob_B_given_A*prob_A\n",
    "p_working_A_and_B = prob_B_given_A*p_working_A\n",
    "\n",
    "\n",
    "# ----------Probability of pulling a third working----------\n",
    "# p(C|B|A) = 93/98\n",
    "prob_C_given_A_and_B = 93/98\n",
    "\n",
    "p_working_A_B_and_C = prob_C_given_A_and_B*p_working_A_and_B\n",
    "\n",
    "# ----------convert to percentage------------------------------------------\n",
    "percentage = \"{:.0%}\".format(p_working_A_B_and_C)\n",
    "print(percentage)"
   ]
  },
  {
   "cell_type": "markdown",
   "metadata": {},
   "source": [
    "## Exercise 6\n",
    "\n",
    "Let's consider the example where 2 dice are thrown. Given that **at least one** of the dice has come up on a number higher than 4, what is the probability that the sum is 8?\n",
    "\n",
    "Let $i,j$ be the numbers shown on the dice. The events $A$ and $B$ are described below:\n",
    "\n",
    "* **Event $A$ is when either $i$ or $j$ is 5 or 6** (keep an eye on either - or)\n",
    "* **Event $B$ is when $i + j = 8$**\n",
    "\n",
    "\n",
    "* What is the size of sample space $\\Omega$ ?\n",
    "* What is $P(A \\cap B)$ ?\n",
    "* What is $P(A)$ ?\n",
    "* Use above to calculate $P(B \\mid A)$"
   ]
  },
  {
   "cell_type": "code",
   "execution_count": 11,
   "metadata": {},
   "outputs": [
    {
     "name": "stdout",
     "output_type": "stream",
     "text": [
      "4/36 = 0.1111111111111111\n"
     ]
    }
   ],
   "source": [
    "# Your code here\n",
    "# ----------Event A is when either i or j is 5 or 6 ----------\n",
    "# sample space A\n",
    "dice_possible_outcomes = {1,2,3,4,5,6}\n",
    "number_of_die = 2\n",
    "omega = len(dice_possible_outcomes)**number_of_die\n",
    "\n",
    "# event space is i or j landing a 5 or 6\n",
    "dice_event = {'i5','i6','j5','j6'}\n",
    "i_or_j_event = len(dice_event)\n",
    "\n",
    "# prob A: either i or j is 5 or 6\n",
    "prob_A = i_or_j_event/omega\n",
    "\n",
    "print(f\"{i_or_j_event}/{omega} = {prob_A}\")"
   ]
  },
  {
   "cell_type": "code",
   "execution_count": 12,
   "metadata": {},
   "outputs": [
    {
     "name": "stdout",
     "output_type": "stream",
     "text": [
      "5/36 = 0.1388888888888889\n"
     ]
    }
   ],
   "source": [
    "# ----------Event B is when i + j = 8-------------------------\n",
    "# sample space B same as above\n",
    "\n",
    "# event space is i + j = 8\n",
    "# all the ways 2 dice can equal 8: {(2,6),(3,5),(4,4),(5,3),(6,2)}\n",
    "dice_event_B = {(2,6),(3,5),(4,4),(5,3),(6,2)}\n",
    "i_and_j_event = len(dice_event_B)\n",
    "\n",
    "# prob B: i + j = 8\n",
    "prob_B = i_and_j_event/omega\n",
    "\n",
    "print(f\"{i_and_j_event}/{omega} = {prob_B}\")"
   ]
  },
  {
   "cell_type": "code",
   "execution_count": 17,
   "metadata": {},
   "outputs": [
    {
     "name": "stdout",
     "output_type": "stream",
     "text": [
      "(4*5)/36 = 0.5555555555555556\n"
     ]
    }
   ],
   "source": [
    "# ----------Probability A and B will happen-------------------\n",
    "prob_A_and_B = (i_or_j_event*i_and_j_event)/omega\n",
    "\n",
    "print(f\"({i_or_j_event}*{i_and_j_event})/{omega} = {prob_A_and_B}\")"
   ]
  },
  {
   "cell_type": "code",
   "execution_count": 18,
   "metadata": {},
   "outputs": [],
   "source": [
    "# plug into formula: prob_B_given_A = prob_A_and_B / prob_A\n",
    "prob_B_given_A = prob_A_and_B / prob_A\n",
    "\n",
    "# What is the size of sample space $Omega$: 6^2 ==> 6**2 ==> 6*6\n",
    "# What is P(A & B): 20/36\n",
    "# What is P(A): 4/36\n",
    "# Use above to calculate P(B|A) \"B given A\""
   ]
  },
  {
   "cell_type": "markdown",
   "metadata": {},
   "source": [
    "The conditional probability (Probability of $A$ **given** $B$) can be written as:\n",
    "$$ P (A \\mid B) = \\dfrac{P(A \\cap B)}{P(B)}$$\n",
    "\n",
    "$P(A|B)$, is the probability A **given** that $B$ has just happened. \n",
    "\n"
   ]
  },
  {
   "cell_type": "markdown",
   "metadata": {},
   "source": [
    "$P(A \\cap B) = P(B) P(A \\mid B) = P(A) P(B \\mid A)$"
   ]
  },
  {
   "cell_type": "markdown",
   "metadata": {},
   "source": [
    "## Exercise 7\n",
    "\n",
    "Let's consider a credit card example. At a supermarket, customers are selected randomly, the store owner recorded whether costumers owned a Visa card (event A) or an Amex credit card (event B). Some customers own both cards.\n",
    "You can assume that:\n",
    "\n",
    "- $P(A)$ = 0.5\n",
    "- $P(B)$ = 0.4\n",
    "- both $A$ and $B$ = 0.25.\n",
    "\n",
    "\n",
    "With the knowledge we have about conditional probabilities, compute and interpret the following probabilities:\n",
    "\n",
    "- $P(B \\mid A)$\n",
    "- $P(B' \\mid A)$\n",
    "- $P(A \\mid B)$\n",
    "- $P(A' \\mid B)$\n"
   ]
  },
  {
   "cell_type": "markdown",
   "metadata": {},
   "source": [
    "### Remember:\n",
    "You learned about (absolute and relative) complements before, but the complement of an event is also applicable to conditional probabilities.\n",
    "\n",
    "The basic rule is:\n",
    "\n",
    "$P(A) + P(A') = 1$\n",
    "\n",
    "with A' being the complement of A.\n",
    "\n",
    "Similarly, extending this to conditional probabilities:\n",
    "\n",
    "$P(A|B) + P(A'|B) = 1$"
   ]
  },
  {
   "cell_type": "code",
   "execution_count": 27,
   "metadata": {},
   "outputs": [
    {
     "data": {
      "text/plain": [
       "0.5"
      ]
     },
     "execution_count": 27,
     "metadata": {},
     "output_type": "execute_result"
    }
   ],
   "source": [
    "# Your code here\n",
    "Visa_A = .5\n",
    "Amex_B = .4\n",
    "A_and_B = .25\n",
    "\n",
    "# 1. \n",
    "B_given_A = A_and_B/Visa_A\n",
    "B_given_A"
   ]
  },
  {
   "cell_type": "code",
   "execution_count": 28,
   "metadata": {},
   "outputs": [
    {
     "data": {
      "text/plain": [
       "0.5"
      ]
     },
     "execution_count": 28,
     "metadata": {},
     "output_type": "execute_result"
    }
   ],
   "source": [
    "# 2. \n",
    "B_comp_given_A = 1-B_given_A\n",
    "B_comp_given_A"
   ]
  },
  {
   "cell_type": "code",
   "execution_count": 29,
   "metadata": {},
   "outputs": [
    {
     "data": {
      "text/plain": [
       "0.625"
      ]
     },
     "execution_count": 29,
     "metadata": {},
     "output_type": "execute_result"
    }
   ],
   "source": [
    "# 3.\n",
    "A_given_B = A_and_B/Amex_B\n",
    "A_given_B"
   ]
  },
  {
   "cell_type": "code",
   "execution_count": 30,
   "metadata": {},
   "outputs": [
    {
     "data": {
      "text/plain": [
       "0.375"
      ]
     },
     "execution_count": 30,
     "metadata": {},
     "output_type": "execute_result"
    }
   ],
   "source": [
    "# 4.\n",
    "A_comp_given_B = 1-A_given_B\n",
    "A_comp_given_B"
   ]
  },
  {
   "cell_type": "markdown",
   "metadata": {},
   "source": [
    "## Summary \n",
    "\n",
    "In this lab, you practiced conditional probability and its theorem with some simple problems. The key takeaway from this lab is to be able to identify random events as dependent or independent and calculating the probability of their occurrence using appropriate methods. Next, you'll learn about some more conditional probability axioms, building on the knowledge we have so far. "
   ]
  }
 ],
 "metadata": {
  "kernelspec": {
   "display_name": "Python 3",
   "language": "python",
   "name": "python3"
  },
  "language_info": {
   "codemirror_mode": {
    "name": "ipython",
    "version": 3
   },
   "file_extension": ".py",
   "mimetype": "text/x-python",
   "name": "python",
   "nbconvert_exporter": "python",
   "pygments_lexer": "ipython3",
   "version": "3.8.5"
  },
  "toc": {
   "base_numbering": 1,
   "nav_menu": {},
   "number_sections": true,
   "sideBar": true,
   "skip_h1_title": false,
   "title_cell": "Table of Contents",
   "title_sidebar": "Contents",
   "toc_cell": false,
   "toc_position": {},
   "toc_section_display": true,
   "toc_window_display": false
  }
 },
 "nbformat": 4,
 "nbformat_minor": 2
}
